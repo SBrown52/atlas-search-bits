{
 "cells": [
  {
   "cell_type": "markdown",
   "id": "ea4a3430-1288-4007-9223-9adf8850f433",
   "metadata": {},
   "source": [
    "# Simple tutorial of Atlas Search\n",
    "We will enter a record and then start searching for it"
   ]
  },
  {
   "cell_type": "code",
   "execution_count": null,
   "id": "4d58ea8b-d62b-4ece-bb7a-7fe721443d17",
   "metadata": {},
   "outputs": [],
   "source": [
    "#Setup\n",
    "import pymongo\n",
    "\n",
    "ATLAS_URL = ''\n",
    "DATABASE = 'atlas_tutorial'\n",
    "COLLECTION = 'docs'"
   ]
  },
  {
   "cell_type": "code",
   "execution_count": null,
   "id": "abab660c-61e4-4d92-9d81-e5805d90a03d",
   "metadata": {},
   "outputs": [],
   "source": [
    "client = pymongo.MongoClient(ATLAS_URL)\n",
    "col = client[DATABASE][COLLECTION]"
   ]
  },
  {
   "cell_type": "code",
   "execution_count": null,
   "id": "2aba756f-ef5a-4089-b198-85b358ef519c",
   "metadata": {},
   "outputs": [],
   "source": [
    "# Delete all records from collection before we start the tutorial\n",
    "col.delete_many({})"
   ]
  },
  {
   "cell_type": "code",
   "execution_count": null,
   "id": "e4b62e66-b4d0-4d77-8fe6-5f2793d1f4a7",
   "metadata": {},
   "outputs": [],
   "source": [
    "col.insert_one({'text': 'This is a sample'})"
   ]
  },
  {
   "cell_type": "code",
   "execution_count": null,
   "id": "d6d1a00c-5a7f-40e8-a3eb-374a02a9fb05",
   "metadata": {},
   "outputs": [],
   "source": [
    "list(col.find({}))"
   ]
  },
  {
   "cell_type": "code",
   "execution_count": null,
   "id": "2ec9ac53-8311-4a3f-a7f0-74e58846d550",
   "metadata": {},
   "outputs": [],
   "source": [
    "# Define some helper functions to generate queries\n",
    "def build_query(search_term):\n",
    "    return [\n",
    "    { \"$search\":\n",
    "     {\"index\": \"default\",\n",
    "      \"text\":\n",
    "      { \"query\": search_term,\n",
    "        \"path\": {'wildcard': '*'}\n",
    "      }\n",
    "     }\n",
    "    }\n",
    "]\n",
    "\n",
    "def search_query(search_term, show_score=False):\n",
    "    query = build_query(search_term)\n",
    "    if show_score:\n",
    "        query.append({  \"$set\": { \"score\": { \"$meta\":  \"searchScore\" } } })\n",
    "    results = col.aggregate(query)\n",
    "    return list(results)"
   ]
  },
  {
   "cell_type": "markdown",
   "id": "0a5ea930-5708-43f4-9e75-a8577fd00ef6",
   "metadata": {},
   "source": [
    "## Simple search query"
   ]
  },
  {
   "cell_type": "code",
   "execution_count": null,
   "id": "4d6bb698-ecaf-4d75-a000-dc717e34fc52",
   "metadata": {},
   "outputs": [],
   "source": [
    "search_query('sample', show_score=True)\n",
    "# We can see that it matches and finds the document. The score can be turned on and off."
   ]
  },
  {
   "cell_type": "code",
   "execution_count": null,
   "id": "f526ff10-f7f0-4053-b4d3-87e1eff8b7a7",
   "metadata": {},
   "outputs": [],
   "source": [
    "# This type of query will not match, as the word simple does not appear\n",
    "search_query('simple', show_score=True)"
   ]
  },
  {
   "cell_type": "markdown",
   "id": "5eebd3da-6996-48f5-8c75-264a9a1719f1",
   "metadata": {},
   "source": [
    "## Fuzzy Matching\n",
    "Instead of searching for `sample`, we'll incorrectly use the word `simple` and this time it will find a result."
   ]
  },
  {
   "cell_type": "code",
   "execution_count": null,
   "id": "0b34f649-b994-4110-a999-61b031f28734",
   "metadata": {},
   "outputs": [],
   "source": [
    "## Update our helper functions for fuzzy searching\n",
    "def build_fuzzy_query(search_term):\n",
    "    return [\n",
    "    { \"$search\":\n",
    "     {\"index\": \"default\",\n",
    "      \"text\":\n",
    "      { \"query\": search_term,\n",
    "        \"path\": {'wildcard': '*'},\n",
    "        \"fuzzy\": {\"maxEdits\": 2}\n",
    "      }\n",
    "     }\n",
    "    }\n",
    "]\n",
    "\n",
    "def fuzzy_search_query(search_term, show_score=False):\n",
    "    query = build_fuzzy_query(search_term)\n",
    "    if show_score:\n",
    "        query.append({  \"$set\": { \"score\": { \"$meta\":  \"searchScore\" } } })\n",
    "    results = col.aggregate(query)\n",
    "    return list(results)"
   ]
  },
  {
   "cell_type": "code",
   "execution_count": null,
   "id": "fe967504-e405-43ab-9963-1b779b6c605c",
   "metadata": {},
   "outputs": [],
   "source": [
    "# Now we see that the document is found if we search for simple\n",
    "fuzzy_search_query('simple')"
   ]
  },
  {
   "cell_type": "code",
   "execution_count": null,
   "id": "47cada9d-e10d-40dd-baf2-d3f4deb5eccb",
   "metadata": {},
   "outputs": [],
   "source": []
  }
 ],
 "metadata": {
  "kernelspec": {
   "display_name": "Python 3 (ipykernel)",
   "language": "python",
   "name": "python3"
  },
  "language_info": {
   "codemirror_mode": {
    "name": "ipython",
    "version": 3
   },
   "file_extension": ".py",
   "mimetype": "text/x-python",
   "name": "python",
   "nbconvert_exporter": "python",
   "pygments_lexer": "ipython3",
   "version": "3.9.10"
  }
 },
 "nbformat": 4,
 "nbformat_minor": 5
}
